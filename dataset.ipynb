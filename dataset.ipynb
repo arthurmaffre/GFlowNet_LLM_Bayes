{
 "cells": [
  {
   "cell_type": "code",
   "execution_count": 1,
   "id": "095d606e",
   "metadata": {},
   "outputs": [
    {
     "name": "stdout",
     "output_type": "stream",
     "text": [
      "Requirement already satisfied: pandas in c:\\users\\admin\\desktop\\test modele bayes\\.venv\\lib\\site-packages (2.3.0)\n",
      "Requirement already satisfied: numpy>=1.26.0 in c:\\users\\admin\\desktop\\test modele bayes\\.venv\\lib\\site-packages (from pandas) (2.3.1)\n",
      "Requirement already satisfied: python-dateutil>=2.8.2 in c:\\users\\admin\\desktop\\test modele bayes\\.venv\\lib\\site-packages (from pandas) (2.9.0.post0)\n",
      "Requirement already satisfied: pytz>=2020.1 in c:\\users\\admin\\desktop\\test modele bayes\\.venv\\lib\\site-packages (from pandas) (2025.2)\n",
      "Requirement already satisfied: tzdata>=2022.7 in c:\\users\\admin\\desktop\\test modele bayes\\.venv\\lib\\site-packages (from pandas) (2025.2)\n",
      "Requirement already satisfied: six>=1.5 in c:\\users\\admin\\desktop\\test modele bayes\\.venv\\lib\\site-packages (from python-dateutil>=2.8.2->pandas) (1.17.0)\n"
     ]
    }
   ],
   "source": [
    "!pip install pandas"
   ]
  },
  {
   "cell_type": "markdown",
   "id": "40737624",
   "metadata": {},
   "source": [
    "# Cell 1 - Imports"
   ]
  },
  {
   "cell_type": "code",
   "execution_count": 2,
   "id": "4e62c809",
   "metadata": {},
   "outputs": [],
   "source": [
    "import pandas as pd\n",
    "import random\n",
    "import pickle"
   ]
  },
  {
   "cell_type": "markdown",
   "id": "f50589e2",
   "metadata": {},
   "source": [
    "# Cell 2 - Génération du dataset"
   ]
  },
  {
   "cell_type": "code",
   "execution_count": 3,
   "id": "ceae51a9",
   "metadata": {},
   "outputs": [],
   "source": [
    "def generate_addition_dataset(num_samples=1000, max_val=49):\n",
    "    data = []\n",
    "    for _ in range(num_samples):\n",
    "        a = random.randint(0, max_val)\n",
    "        b = random.randint(0, max_val)\n",
    "        result = a + b\n",
    "        input_str = f\"{a} + {b}\"\n",
    "        output_str = str(result)\n",
    "        data.append((input_str, output_str))\n",
    "    return pd.DataFrame(data, columns=[\"input\", \"output\"])"
   ]
  },
  {
   "cell_type": "code",
   "execution_count": 4,
   "id": "b54540e2",
   "metadata": {},
   "outputs": [
    {
     "name": "stdout",
     "output_type": "stream",
     "text": [
      "     input output\n",
      "0  31 + 15     46\n",
      "1  43 + 10     53\n",
      "2  22 + 16     38\n",
      "3   21 + 7     28\n",
      "4  44 + 24     68\n"
     ]
    }
   ],
   "source": [
    "df = generate_addition_dataset()\n",
    "print(df.head())"
   ]
  },
  {
   "cell_type": "markdown",
   "id": "aa106bc2",
   "metadata": {},
   "source": [
    "# Cell 3 - Export en fichier .pkl"
   ]
  },
  {
   "cell_type": "code",
   "execution_count": 5,
   "id": "5ba12369",
   "metadata": {},
   "outputs": [
    {
     "name": "stdout",
     "output_type": "stream",
     "text": [
      "Dataset enregistré sous 'addition_dataset.pkl'\n"
     ]
    }
   ],
   "source": [
    "with open(\"addition_dataset.pkl\", \"wb\") as f:\n",
    "    pickle.dump(df, f)\n",
    "\n",
    "print(\"Dataset enregistré sous 'addition_dataset.pkl'\")"
   ]
  }
 ],
 "metadata": {
  "kernelspec": {
   "display_name": ".venv",
   "language": "python",
   "name": "python3"
  },
  "language_info": {
   "codemirror_mode": {
    "name": "ipython",
    "version": 3
   },
   "file_extension": ".py",
   "mimetype": "text/x-python",
   "name": "python",
   "nbconvert_exporter": "python",
   "pygments_lexer": "ipython3",
   "version": "3.13.3"
  }
 },
 "nbformat": 4,
 "nbformat_minor": 5
}
