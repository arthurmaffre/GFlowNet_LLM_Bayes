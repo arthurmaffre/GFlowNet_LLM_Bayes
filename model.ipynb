{
 "cells": [
  {
   "cell_type": "code",
   "execution_count": 1,
   "id": "afc0d4a4",
   "metadata": {},
   "outputs": [],
   "source": [
    "!pip3 install torch torchvision torchaudio --index-url https://download.pytorch.org/whl/cu128\n",
    "!pip3 install matplotlib"
   ]
  },
  {
   "cell_type": "markdown",
   "id": "94f61cac",
   "metadata": {},
   "source": [
    "# - Imports"
   ]
  },
  {
   "cell_type": "code",
   "execution_count": 2,
   "id": "2e4f3a7f",
   "metadata": {},
   "outputs": [],
   "source": [
    "import random, torch, pickle\n",
    "import torch.nn as nn\n",
    "from torch.utils.data import Dataset, DataLoader, random_split\n",
    "import pandas as pd\n",
    "import matplotlib.pyplot as plt\n",
    "from typing import Iterable, Tuple"
   ]
  },
  {
   "cell_type": "markdown",
   "id": "f5be526c",
   "metadata": {},
   "source": [
    "# - SEED"
   ]
  },
  {
   "cell_type": "code",
   "execution_count": 3,
   "id": "0dbc9f82",
   "metadata": {},
   "outputs": [
    {
     "data": {
      "text/plain": [
       "<torch._C.Generator at 0x1cdf195f5f0>"
      ]
     },
     "execution_count": 3,
     "metadata": {},
     "output_type": "execute_result"
    }
   ],
   "source": [
    "SEED = 42\n",
    "random.seed(SEED)\n",
    "torch.manual_seed(SEED)"
   ]
  },
  {
   "cell_type": "code",
   "execution_count": 4,
   "id": "b0e5986c",
   "metadata": {},
   "outputs": [
    {
     "name": "stdout",
     "output_type": "stream",
     "text": [
      "[('8 + 7', '15'), ('10 + 4', '14'), ('0 + 5', '5'), ('10 + 1', '11'), ('8 + 10', '18'), ('9 + 2', '11'), ('7 + 9', '16'), ('6 + 0', '6'), ('10 + 0', '10'), ('2 + 1', '3'), ('0 + 4', '4'), ('10 + 0', '10'), ('9 + 1', '10'), ('7 + 2', '9'), ('7 + 2', '9'), ('8 + 9', '17'), ('1 + 4', '5'), ('8 + 7', '15'), ('10 + 9', '19'), ('7 + 4', '11'), ('0 + 1', '1'), ('9 + 2', '11'), ('9 + 1', '10'), ('2 + 7', '9'), ('4 + 4', '8'), ('6 + 9', '15'), ('6 + 2', '8'), ('1 + 10', '11'), ('4 + 0', '4'), ('2 + 6', '8'), ('10 + 4', '14'), ('7 + 2', '9'), ('5 + 10', '15'), ('10 + 5', '15'), ('8 + 8', '16'), ('10 + 3', '13'), ('7 + 5', '12'), ('0 + 10', '10'), ('3 + 9', '12'), ('6 + 7', '13'), ('7 + 4', '11'), ('9 + 3', '12'), ('10 + 8', '18'), ('7 + 8', '15'), ('2 + 10', '12'), ('6 + 0', '6'), ('1 + 3', '4'), ('9 + 3', '12'), ('4 + 8', '12'), ('0 + 4', '4'), ('5 + 3', '8'), ('9 + 2', '11'), ('8 + 10', '18'), ('1 + 6', '7'), ('10 + 7', '17'), ('5 + 7', '12'), ('6 + 10', '16'), ('5 + 6', '11'), ('9 + 4', '13'), ('9 + 1', '10'), ('1 + 3', '4'), ('10 + 0', '10'), ('3 + 7', '10'), ('2 + 1', '3'), ('7 + 7', '14'), ('0 + 1', '1'), ('4 + 4', '8'), ('7 + 5', '12'), ('6 + 3', '9'), ('2 + 3', '5'), ('5 + 7', '12'), ('5 + 4', '9'), ('3 + 8', '11'), ('9 + 0', '9'), ('1 + 4', '5'), ('5 + 3', '8'), ('5 + 3', '8'), ('8 + 0', '8'), ('8 + 10', '18'), ('2 + 8', '10'), ('6 + 7', '13'), ('8 + 9', '17'), ('9 + 6', '15'), ('0 + 4', '4'), ('5 + 3', '8'), ('5 + 4', '9'), ('1 + 3', '4'), ('9 + 4', '13'), ('5 + 6', '11'), ('6 + 6', '12'), ('4 + 3', '7'), ('6 + 7', '13'), ('7 + 6', '13'), ('9 + 4', '13'), ('1 + 6', '7'), ('9 + 8', '17'), ('1 + 1', '2'), ('9 + 4', '13'), ('10 + 7', '17'), ('3 + 1', '4'), ('6 + 10', '16'), ('5 + 8', '13'), ('7 + 0', '7'), ('4 + 5', '9'), ('2 + 0', '2'), ('1 + 4', '5'), ('1 + 0', '1'), ('7 + 9', '16'), ('0 + 8', '8'), ('6 + 10', '16'), ('4 + 5', '9'), ('7 + 7', '14'), ('9 + 3', '12'), ('9 + 3', '12'), ('5 + 8', '13'), ('9 + 3', '12'), ('6 + 1', '7'), ('1 + 2', '3'), ('9 + 6', '15'), ('1 + 3', '4'), ('9 + 0', '9'), ('8 + 4', '12'), ('4 + 6', '10'), ('8 + 9', '17'), ('3 + 6', '9'), ('0 + 10', '10'), ('7 + 2', '9'), ('10 + 8', '18'), ('3 + 3', '6'), ('10 + 3', '13'), ('7 + 3', '10'), ('5 + 9', '14'), ('4 + 0', '4'), ('7 + 7', '14'), ('7 + 10', '17'), ('10 + 9', '19'), ('10 + 0', '10'), ('2 + 4', '6'), ('0 + 4', '4'), ('5 + 10', '15'), ('7 + 0', '7'), ('4 + 7', '11'), ('6 + 8', '14'), ('8 + 2', '10'), ('3 + 2', '5'), ('0 + 4', '4'), ('8 + 4', '12'), ('0 + 10', '10'), ('2 + 0', '2'), ('2 + 1', '3'), ('5 + 3', '8'), ('8 + 9', '17'), ('7 + 9', '16'), ('7 + 5', '12'), ('2 + 0', '2'), ('3 + 0', '3'), ('9 + 9', '18'), ('2 + 5', '7'), ('4 + 2', '6'), ('2 + 5', '7'), ('8 + 6', '14'), ('2 + 2', '4'), ('3 + 6', '9'), ('5 + 4', '9'), ('4 + 3', '7'), ('9 + 10', '19'), ('2 + 8', '10'), ('7 + 1', '8'), ('1 + 2', '3'), ('3 + 4', '7'), ('7 + 1', '8'), ('1 + 9', '10'), ('2 + 6', '8'), ('1 + 1', '2'), ('6 + 9', '15'), ('2 + 1', '3'), ('10 + 2', '12'), ('8 + 8', '16'), ('8 + 10', '18'), ('8 + 0', '8'), ('1 + 0', '1'), ('6 + 0', '6'), ('6 + 4', '10'), ('5 + 5', '10'), ('3 + 8', '11'), ('8 + 3', '11'), ('8 + 4', '12'), ('3 + 6', '9'), ('6 + 1', '7'), ('2 + 9', '11'), ('7 + 10', '17'), ('6 + 9', '15'), ('3 + 9', '12'), ('5 + 3', '8'), ('7 + 10', '17'), ('1 + 3', '4'), ('3 + 2', '5'), ('6 + 10', '16'), ('10 + 8', '18'), ('5 + 6', '11'), ('2 + 0', '2'), ('8 + 5', '13'), ('1 + 0', '1'), ('8 + 3', '11'), ('4 + 9', '13'), ('6 + 9', '15'), ('7 + 7', '14'), ('7 + 3', '10'), ('3 + 5', '8'), ('5 + 5', '10'), ('6 + 0', '6'), ('9 + 4', '13'), ('6 + 7', '13'), ('6 + 9', '15'), ('9 + 3', '12'), ('4 + 5', '9'), ('1 + 1', '2'), ('4 + 2', '6'), ('8 + 10', '18'), ('3 + 3', '6'), ('1 + 4', '5'), ('5 + 3', '8'), ('5 + 6', '11'), ('7 + 6', '13'), ('10 + 10', '20'), ('1 + 2', '3'), ('10 + 10', '20'), ('8 + 0', '8'), ('10 + 10', '20'), ('3 + 3', '6'), ('1 + 3', '4'), ('1 + 1', '2'), ('3 + 10', '13'), ('8 + 3', '11'), ('4 + 10', '14'), ('6 + 8', '14'), ('2 + 4', '6'), ('9 + 0', '9'), ('9 + 7', '16'), ('1 + 2', '3'), ('3 + 8', '11'), ('1 + 7', '8'), ('2 + 9', '11'), ('4 + 4', '8'), ('5 + 8', '13'), ('2 + 8', '10'), ('7 + 1', '8'), ('9 + 9', '18'), ('6 + 10', '16'), ('0 + 5', '5'), ('10 + 3', '13'), ('8 + 6', '14'), ('2 + 10', '12'), ('3 + 10', '13'), ('1 + 7', '8'), ('0 + 10', '10'), ('4 + 3', '7'), ('2 + 6', '8'), ('3 + 5', '8'), ('8 + 8', '16'), ('9 + 1', '10'), ('2 + 7', '9'), ('1 + 5', '6'), ('2 + 3', '5'), ('5 + 3', '8'), ('10 + 3', '13'), ('10 + 7', '17'), ('6 + 7', '13'), ('0 + 5', '5'), ('5 + 5', '10'), ('3 + 5', '8'), ('2 + 1', '3'), ('1 + 1', '2'), ('8 + 3', '11'), ('4 + 6', '10'), ('0 + 8', '8'), ('2 + 0', '2'), ('10 + 3', '13'), ('4 + 3', '7'), ('9 + 0', '9'), ('9 + 6', '15'), ('5 + 7', '12'), ('7 + 6', '13'), ('10 + 1', '11'), ('9 + 9', '18'), ('6 + 5', '11'), ('4 + 2', '6'), ('9 + 10', '19'), ('3 + 9', '12'), ('4 + 10', '14'), ('6 + 5', '11'), ('4 + 6', '10'), ('4 + 4', '8'), ('4 + 10', '14'), ('10 + 6', '16'), ('5 + 0', '5'), ('2 + 8', '10'), ('2 + 7', '9'), ('6 + 4', '10'), ('1 + 3', '4'), ('5 + 5', '10'), ('8 + 10', '18'), ('0 + 5', '5'), ('8 + 1', '9'), ('2 + 2', '4'), ('9 + 9', '18'), ('3 + 7', '10'), ('0 + 10', '10'), ('1 + 7', '8'), ('2 + 4', '6'), ('6 + 6', '12'), ('2 + 9', '11'), ('8 + 9', '17'), ('7 + 10', '17'), ('0 + 7', '7'), ('10 + 7', '17'), ('4 + 4', '8'), ('8 + 4', '12'), ('3 + 0', '3'), ('1 + 9', '10'), ('1 + 4', '5'), ('0 + 3', '3'), ('2 + 6', '8'), ('5 + 1', '6'), ('5 + 6', '11'), ('3 + 2', '5'), ('10 + 10', '20'), ('7 + 0', '7'), ('2 + 2', '4'), ('10 + 5', '15'), ('8 + 6', '14'), ('5 + 6', '11'), ('4 + 1', '5'), ('4 + 5', '9'), ('7 + 2', '9'), ('7 + 7', '14'), ('8 + 0', '8'), ('1 + 9', '10'), ('9 + 1', '10'), ('4 + 9', '13'), ('2 + 3', '5'), ('6 + 10', '16'), ('10 + 3', '13'), ('2 + 4', '6'), ('5 + 9', '14'), ('8 + 3', '11'), ('2 + 4', '6'), ('7 + 8', '15'), ('7 + 5', '12'), ('1 + 5', '6'), ('6 + 10', '16'), ('4 + 3', '7'), ('6 + 3', '9'), ('9 + 7', '16'), ('0 + 9', '9'), ('3 + 4', '7'), ('9 + 7', '16'), ('8 + 7', '15'), ('10 + 0', '10'), ('7 + 1', '8'), ('3 + 6', '9'), ('4 + 10', '14'), ('10 + 7', '17'), ('3 + 4', '7'), ('9 + 1', '10'), ('1 + 0', '1'), ('6 + 5', '11'), ('10 + 10', '20'), ('7 + 4', '11'), ('2 + 1', '3'), ('0 + 10', '10'), ('7 + 3', '10'), ('0 + 3', '3'), ('4 + 7', '11'), ('10 + 0', '10'), ('10 + 9', '19'), ('10 + 6', '16'), ('10 + 9', '19'), ('7 + 6', '13'), ('1 + 4', '5'), ('3 + 0', '3'), ('7 + 9', '16'), ('5 + 5', '10'), ('7 + 2', '9'), ('7 + 1', '8'), ('5 + 10', '15'), ('7 + 3', '10'), ('8 + 5', '13'), ('9 + 6', '15'), ('2 + 8', '10'), ('2 + 8', '10'), ('10 + 2', '12'), ('6 + 10', '16'), ('7 + 8', '15'), ('2 + 0', '2'), ('5 + 5', '10'), ('2 + 8', '10'), ('9 + 0', '9'), ('9 + 2', '11'), ('4 + 6', '10'), ('4 + 7', '11'), ('2 + 10', '12'), ('4 + 4', '8'), ('10 + 9', '19'), ('6 + 4', '10'), ('7 + 7', '14'), ('1 + 3', '4'), ('10 + 3', '13'), ('5 + 10', '15'), ('6 + 3', '9'), ('5 + 4', '9'), ('9 + 5', '14'), ('7 + 3', '10'), ('4 + 2', '6'), ('0 + 0', '0'), ('7 + 4', '11'), ('7 + 8', '15'), ('1 + 0', '1'), ('7 + 0', '7'), ('8 + 9', '17'), ('5 + 9', '14'), ('5 + 10', '15'), ('1 + 10', '11'), ('5 + 4', '9'), ('0 + 2', '2'), ('2 + 3', '5'), ('2 + 9', '11'), ('2 + 8', '10'), ('2 + 5', '7'), ('5 + 7', '12'), ('4 + 8', '12'), ('8 + 7', '15'), ('1 + 1', '2'), ('9 + 1', '10'), ('1 + 8', '9'), ('2 + 5', '7'), ('2 + 2', '4'), ('9 + 1', '10'), ('10 + 7', '17'), ('2 + 7', '9'), ('5 + 4', '9'), ('1 + 9', '10'), ('7 + 2', '9'), ('3 + 4', '7'), ('1 + 1', '2'), ('5 + 0', '5'), ('4 + 3', '7'), ('8 + 0', '8'), ('7 + 2', '9'), ('6 + 4', '10'), ('8 + 6', '14'), ('0 + 9', '9'), ('8 + 10', '18'), ('7 + 1', '8'), ('8 + 7', '15'), ('7 + 7', '14'), ('0 + 1', '1'), ('10 + 1', '11'), ('5 + 0', '5'), ('10 + 3', '13'), ('3 + 5', '8'), ('4 + 6', '10'), ('6 + 0', '6'), ('9 + 8', '17'), ('4 + 4', '8'), ('4 + 2', '6'), ('1 + 5', '6'), ('4 + 2', '6'), ('6 + 9', '15'), ('2 + 8', '10'), ('4 + 9', '13'), ('6 + 8', '14'), ('7 + 4', '11'), ('2 + 4', '6'), ('5 + 6', '11'), ('0 + 5', '5'), ('6 + 7', '13'), ('2 + 3', '5'), ('5 + 7', '12'), ('3 + 5', '8'), ('0 + 4', '4'), ('2 + 10', '12'), ('1 + 7', '8'), ('5 + 8', '13'), ('5 + 3', '8'), ('1 + 4', '5'), ('7 + 0', '7'), ('7 + 10', '17'), ('8 + 10', '18'), ('8 + 5', '13'), ('6 + 10', '16'), ('3 + 4', '7'), ('1 + 8', '9'), ('3 + 7', '10'), ('10 + 5', '15'), ('5 + 4', '9'), ('2 + 4', '6'), ('8 + 4', '12'), ('10 + 1', '11'), ('4 + 9', '13'), ('9 + 1', '10'), ('1 + 8', '9'), ('6 + 3', '9'), ('6 + 9', '15'), ('3 + 2', '5'), ('0 + 5', '5'), ('2 + 0', '2'), ('10 + 2', '12'), ('7 + 6', '13'), ('2 + 5', '7'), ('10 + 8', '18'), ('6 + 1', '7'), ('4 + 4', '8'), ('6 + 8', '14'), ('5 + 10', '15'), ('8 + 7', '15'), ('4 + 3', '7'), ('10 + 8', '18'), ('7 + 10', '17'), ('5 + 9', '14'), ('6 + 10', '16'), ('4 + 4', '8'), ('0 + 9', '9'), ('7 + 3', '10'), ('8 + 9', '17'), ('2 + 10', '12'), ('0 + 5', '5'), ('9 + 0', '9'), ('9 + 8', '17'), ('10 + 4', '14'), ('8 + 7', '15'), ('0 + 4', '4'), ('3 + 6', '9'), ('0 + 10', '10'), ('9 + 6', '15'), ('7 + 2', '9'), ('5 + 9', '14'), ('4 + 3', '7'), ('0 + 9', '9'), ('9 + 5', '14'), ('5 + 10', '15'), ('2 + 1', '3'), ('7 + 0', '7'), ('5 + 2', '7'), ('4 + 6', '10'), ('3 + 7', '10'), ('7 + 1', '8'), ('4 + 1', '5'), ('7 + 2', '9'), ('2 + 10', '12'), ('5 + 1', '6'), ('0 + 1', '1'), ('5 + 4', '9'), ('8 + 7', '15'), ('0 + 2', '2'), ('4 + 9', '13'), ('9 + 5', '14'), ('5 + 5', '10'), ('8 + 4', '12'), ('1 + 7', '8'), ('10 + 6', '16'), ('4 + 5', '9'), ('3 + 3', '6'), ('1 + 7', '8'), ('8 + 0', '8'), ('7 + 3', '10'), ('0 + 9', '9'), ('0 + 0', '0'), ('6 + 7', '13'), ('1 + 8', '9'), ('4 + 7', '11'), ('6 + 3', '9'), ('2 + 6', '8'), ('9 + 5', '14'), ('7 + 7', '14'), ('10 + 1', '11'), ('5 + 2', '7'), ('4 + 10', '14'), ('1 + 5', '6'), ('4 + 1', '5'), ('6 + 9', '15'), ('6 + 7', '13'), ('2 + 3', '5'), ('8 + 1', '9'), ('1 + 2', '3'), ('5 + 0', '5'), ('2 + 8', '10'), ('7 + 8', '15'), ('0 + 1', '1'), ('1 + 8', '9'), ('7 + 6', '13'), ('5 + 8', '13'), ('0 + 10', '10'), ('3 + 8', '11'), ('9 + 8', '17'), ('9 + 4', '13'), ('3 + 4', '7'), ('0 + 0', '0'), ('10 + 3', '13'), ('7 + 2', '9'), ('2 + 2', '4'), ('8 + 4', '12'), ('2 + 10', '12'), ('0 + 6', '6'), ('4 + 0', '4'), ('4 + 4', '8'), ('4 + 3', '7'), ('10 + 8', '18'), ('5 + 0', '5'), ('3 + 5', '8'), ('9 + 6', '15'), ('3 + 1', '4'), ('4 + 7', '11'), ('10 + 7', '17'), ('5 + 7', '12'), ('9 + 8', '17'), ('5 + 0', '5'), ('1 + 5', '6'), ('0 + 3', '3'), ('10 + 10', '20'), ('4 + 0', '4'), ('10 + 8', '18'), ('7 + 7', '14'), ('8 + 8', '16'), ('5 + 5', '10'), ('9 + 5', '14'), ('6 + 9', '15'), ('0 + 4', '4'), ('1 + 6', '7'), ('4 + 9', '13'), ('0 + 2', '2'), ('10 + 5', '15'), ('3 + 7', '10'), ('2 + 10', '12'), ('5 + 0', '5'), ('3 + 4', '7'), ('2 + 7', '9'), ('7 + 2', '9'), ('10 + 9', '19'), ('9 + 0', '9'), ('2 + 9', '11'), ('6 + 2', '8'), ('6 + 0', '6'), ('9 + 2', '11'), ('2 + 10', '12'), ('9 + 1', '10'), ('1 + 0', '1'), ('9 + 8', '17'), ('7 + 8', '15'), ('7 + 3', '10'), ('7 + 3', '10'), ('2 + 1', '3'), ('10 + 6', '16'), ('8 + 3', '11'), ('2 + 10', '12'), ('10 + 4', '14'), ('6 + 8', '14'), ('9 + 9', '18'), ('7 + 1', '8'), ('9 + 10', '19'), ('0 + 7', '7'), ('5 + 10', '15'), ('8 + 2', '10'), ('4 + 2', '6'), ('2 + 6', '8'), ('7 + 1', '8'), ('2 + 0', '2'), ('6 + 5', '11'), ('2 + 3', '5'), ('4 + 6', '10'), ('8 + 4', '12'), ('10 + 8', '18'), ('6 + 4', '10'), ('4 + 9', '13'), ('4 + 6', '10'), ('3 + 1', '4'), ('8 + 4', '12'), ('7 + 9', '16'), ('4 + 10', '14'), ('3 + 9', '12'), ('7 + 3', '10'), ('5 + 1', '6'), ('6 + 9', '15'), ('5 + 0', '5'), ('8 + 5', '13'), ('1 + 0', '1'), ('4 + 7', '11'), ('0 + 10', '10'), ('7 + 3', '10'), ('0 + 10', '10'), ('2 + 1', '3'), ('6 + 9', '15'), ('4 + 8', '12'), ('9 + 8', '17'), ('4 + 9', '13'), ('2 + 8', '10'), ('5 + 1', '6'), ('4 + 2', '6'), ('9 + 6', '15'), ('6 + 7', '13'), ('4 + 2', '6'), ('5 + 9', '14'), ('2 + 0', '2'), ('5 + 1', '6'), ('4 + 6', '10'), ('4 + 0', '4'), ('0 + 9', '9'), ('5 + 9', '14'), ('1 + 7', '8'), ('6 + 7', '13'), ('6 + 8', '14'), ('10 + 8', '18'), ('5 + 0', '5'), ('2 + 4', '6'), ('2 + 1', '3'), ('7 + 0', '7'), ('1 + 2', '3'), ('2 + 5', '7'), ('8 + 5', '13'), ('5 + 5', '10'), ('10 + 7', '17'), ('10 + 4', '14'), ('2 + 2', '4'), ('1 + 8', '9'), ('7 + 8', '15'), ('3 + 4', '7'), ('1 + 8', '9'), ('0 + 6', '6'), ('4 + 6', '10'), ('6 + 1', '7'), ('7 + 7', '14'), ('10 + 5', '15'), ('0 + 10', '10'), ('4 + 9', '13'), ('1 + 9', '10'), ('6 + 5', '11'), ('2 + 6', '8'), ('7 + 7', '14'), ('10 + 3', '13'), ('2 + 3', '5'), ('0 + 1', '1'), ('9 + 10', '19'), ('8 + 6', '14'), ('10 + 1', '11'), ('1 + 9', '10'), ('0 + 6', '6'), ('5 + 8', '13'), ('2 + 4', '6'), ('8 + 6', '14'), ('3 + 3', '6'), ('1 + 5', '6'), ('5 + 9', '14'), ('4 + 10', '14'), ('0 + 8', '8'), ('0 + 10', '10'), ('2 + 9', '11'), ('9 + 4', '13'), ('9 + 7', '16'), ('6 + 10', '16'), ('8 + 7', '15'), ('0 + 0', '0'), ('7 + 5', '12'), ('3 + 3', '6'), ('2 + 0', '2'), ('6 + 4', '10'), ('5 + 2', '7'), ('4 + 2', '6'), ('3 + 4', '7'), ('9 + 3', '12'), ('8 + 4', '12'), ('2 + 8', '10'), ('10 + 2', '12'), ('3 + 2', '5'), ('6 + 4', '10'), ('8 + 7', '15'), ('1 + 2', '3'), ('5 + 6', '11'), ('3 + 1', '4'), ('7 + 3', '10'), ('1 + 2', '3'), ('5 + 0', '5'), ('2 + 1', '3'), ('4 + 6', '10'), ('1 + 1', '2'), ('5 + 3', '8'), ('6 + 5', '11'), ('3 + 1', '4'), ('5 + 5', '10'), ('6 + 9', '15'), ('0 + 4', '4'), ('6 + 0', '6'), ('1 + 2', '3'), ('6 + 6', '12'), ('1 + 1', '2'), ('5 + 9', '14'), ('8 + 1', '9'), ('4 + 1', '5'), ('8 + 7', '15'), ('1 + 6', '7'), ('4 + 0', '4'), ('8 + 2', '10'), ('5 + 4', '9'), ('1 + 6', '7'), ('7 + 3', '10'), ('8 + 1', '9'), ('7 + 6', '13'), ('1 + 7', '8'), ('8 + 7', '15'), ('4 + 9', '13'), ('0 + 3', '3'), ('8 + 5', '13'), ('9 + 3', '12'), ('6 + 6', '12'), ('6 + 8', '14'), ('9 + 2', '11'), ('5 + 5', '10'), ('6 + 5', '11'), ('10 + 3', '13'), ('8 + 0', '8'), ('10 + 6', '16'), ('8 + 8', '16'), ('10 + 7', '17'), ('10 + 7', '17'), ('0 + 8', '8'), ('7 + 10', '17'), ('3 + 3', '6'), ('3 + 9', '12'), ('8 + 9', '17'), ('6 + 4', '10'), ('2 + 6', '8'), ('9 + 2', '11'), ('0 + 10', '10'), ('6 + 6', '12'), ('8 + 9', '17'), ('6 + 1', '7'), ('2 + 10', '12'), ('9 + 9', '18'), ('7 + 6', '13'), ('7 + 9', '16'), ('7 + 3', '10'), ('10 + 8', '18'), ('5 + 7', '12'), ('4 + 6', '10'), ('1 + 6', '7'), ('7 + 1', '8'), ('3 + 3', '6'), ('9 + 4', '13'), ('2 + 3', '5'), ('0 + 9', '9'), ('9 + 6', '15'), ('9 + 9', '18'), ('5 + 0', '5'), ('3 + 0', '3'), ('1 + 1', '2'), ('0 + 7', '7'), ('7 + 0', '7'), ('5 + 0', '5'), ('5 + 4', '9'), ('1 + 10', '11'), ('4 + 0', '4'), ('7 + 8', '15'), ('2 + 5', '7'), ('10 + 1', '11'), ('0 + 4', '4'), ('8 + 5', '13'), ('4 + 2', '6'), ('3 + 5', '8'), ('0 + 6', '6'), ('7 + 1', '8'), ('9 + 10', '19'), ('1 + 7', '8'), ('2 + 10', '12'), ('1 + 4', '5'), ('6 + 7', '13'), ('3 + 10', '13'), ('9 + 2', '11'), ('6 + 0', '6'), ('3 + 1', '4'), ('6 + 10', '16'), ('6 + 10', '16'), ('5 + 3', '8'), ('10 + 6', '16'), ('9 + 5', '14'), ('5 + 7', '12'), ('0 + 8', '8'), ('8 + 2', '10'), ('10 + 7', '17'), ('7 + 7', '14'), ('7 + 7', '14'), ('1 + 5', '6'), ('4 + 4', '8'), ('0 + 10', '10'), ('7 + 1', '8'), ('7 + 3', '10'), ('5 + 6', '11'), ('3 + 3', '6'), ('4 + 2', '6'), ('7 + 0', '7'), ('9 + 7', '16'), ('10 + 6', '16'), ('9 + 2', '11'), ('4 + 4', '8'), ('10 + 10', '20'), ('0 + 3', '3'), ('9 + 4', '13'), ('1 + 5', '6'), ('2 + 6', '8'), ('9 + 5', '14'), ('1 + 3', '4'), ('7 + 5', '12'), ('3 + 2', '5'), ('9 + 9', '18'), ('5 + 1', '6'), ('6 + 2', '8'), ('6 + 7', '13'), ('2 + 8', '10'), ('4 + 3', '7'), ('5 + 2', '7'), ('4 + 10', '14'), ('3 + 2', '5'), ('10 + 7', '17'), ('10 + 7', '17'), ('0 + 9', '9'), ('1 + 0', '1'), ('1 + 5', '6'), ('5 + 10', '15'), ('0 + 8', '8'), ('3 + 5', '8'), ('5 + 8', '13'), ('0 + 0', '0'), ('2 + 6', '8'), ('8 + 5', '13'), ('2 + 5', '7'), ('8 + 9', '17'), ('7 + 2', '9'), ('4 + 2', '6'), ('8 + 10', '18'), ('10 + 3', '13'), ('6 + 5', '11'), ('8 + 7', '15'), ('10 + 6', '16'), ('2 + 8', '10'), ('7 + 7', '14'), ('8 + 4', '12'), ('0 + 8', '8'), ('6 + 2', '8'), ('0 + 6', '6'), ('3 + 8', '11'), ('5 + 6', '11'), ('2 + 5', '7'), ('4 + 1', '5'), ('5 + 2', '7'), ('9 + 3', '12'), ('7 + 2', '9'), ('3 + 4', '7'), ('2 + 8', '10'), ('0 + 10', '10'), ('9 + 5', '14'), ('3 + 2', '5'), ('2 + 5', '7'), ('3 + 3', '6'), ('8 + 0', '8'), ('3 + 2', '5'), ('2 + 6', '8'), ('3 + 0', '3'), ('7 + 0', '7'), ('4 + 10', '14'), ('1 + 1', '2'), ('2 + 10', '12'), ('4 + 7', '11'), ('2 + 4', '6'), ('8 + 10', '18'), ('5 + 8', '13'), ('5 + 2', '7'), ('3 + 8', '11'), ('9 + 6', '15'), ('1 + 10', '11'), ('10 + 7', '17'), ('3 + 3', '6'), ('4 + 1', '5'), ('8 + 10', '18'), ('10 + 4', '14'), ('1 + 7', '8'), ('5 + 1', '6'), ('9 + 2', '11'), ('1 + 8', '9'), ('4 + 2', '6'), ('8 + 1', '9'), ('7 + 6', '13'), ('0 + 2', '2'), ('4 + 10', '14'), ('6 + 10', '16'), ('1 + 3', '4'), ('2 + 2', '4'), ('7 + 6', '13'), ('6 + 9', '15'), ('7 + 6', '13'), ('3 + 0', '3'), ('9 + 6', '15'), ('8 + 8', '16')]\n"
     ]
    }
   ],
   "source": [
    "with open(\"addition_dataset.pkl\", \"rb\") as f:\n",
    "    df = pickle.load(f)\n",
    "\n",
    "print(df)"
   ]
  },
  {
   "cell_type": "markdown",
   "id": "56a72c83",
   "metadata": {},
   "source": [
    "# - Tokenization"
   ]
  },
  {
   "cell_type": "code",
   "execution_count": 5,
   "id": "3076aeb4",
   "metadata": {},
   "outputs": [
    {
     "name": "stdout",
     "output_type": "stream",
     "text": [
      "VOCAB_SIZE = 16\n",
      "OUTPUT_LEN = 2\n"
     ]
    }
   ],
   "source": [
    "SPECIAL = [\"<pad>\", \"<bos>\", \"<eos>\"]\n",
    "BASE_CHARS = sorted(set(\"0123456789+= \"))\n",
    "VOCAB = SPECIAL + BASE_CHARS\n",
    "PAD, BOS, EOS = SPECIAL  # alias pratiques\n",
    "\n",
    "char2idx = {ch: i for i, ch in enumerate(VOCAB)}\n",
    "idx2char = {i: ch for ch, i in char2idx.items()}\n",
    "VOCAB_SIZE = len(VOCAB)\n",
    "\n",
    "INPUT_LEN = 9                               # « 99 + 99 » => 9 caractères max\n",
    "OUTPUT_LEN = 2  # nb de chiffres de la somme\n",
    "TGT_LEN = OUTPUT_LEN + 2                    # + BOS + EOS\n",
    "\n",
    "print(\"VOCAB_SIZE =\", VOCAB_SIZE)\n",
    "print(\"OUTPUT_LEN =\", OUTPUT_LEN)"
   ]
  },
  {
   "cell_type": "markdown",
   "id": "af8be234",
   "metadata": {},
   "source": [
    "# Cell 3 - Dataset"
   ]
  },
  {
   "cell_type": "code",
   "execution_count": 6,
   "id": "cf997182",
   "metadata": {},
   "outputs": [],
   "source": [
    "class AdditionDataset(Dataset):\n",
    "    def __init__(self, data: Iterable[Tuple[str, str]]):\n",
    "        self.x, self.y = [], []\n",
    "        for inp_str, out_str in data:\n",
    "            inp = inp_str[:INPUT_LEN].ljust(INPUT_LEN)\n",
    "            out = out_str[:OUTPUT_LEN].ljust(OUTPUT_LEN)\n",
    "            src_ids = [char2idx[c] for c in inp]\n",
    "            tgt_ids = [char2idx[BOS]] + [char2idx[c] for c in out] + [char2idx[EOS]]\n",
    "            tgt_ids += [char2idx[PAD]] * (TGT_LEN - len(tgt_ids))\n",
    "            self.x.append(torch.tensor(src_ids, dtype=torch.long))\n",
    "            self.y.append(torch.tensor(tgt_ids, dtype=torch.long))\n",
    "\n",
    "    def __len__(self):\n",
    "        return len(self.x)\n",
    "\n",
    "    def __getitem__(self, idx):\n",
    "        return self.x[idx], self.y[idx]"
   ]
  },
  {
   "cell_type": "code",
   "execution_count": 7,
   "id": "86c9373e",
   "metadata": {},
   "outputs": [
    {
     "name": "stdout",
     "output_type": "stream",
     "text": [
      "Dataset size: 1000\n"
     ]
    }
   ],
   "source": [
    "full_ds = AdditionDataset(df)\n",
    "train_ds, test_ds = random_split(full_ds, [int(0.8*len(full_ds)), len(full_ds)-int(0.8*len(full_ds))])\n",
    "train_dl = DataLoader(train_ds, batch_size=32, shuffle=True)\n",
    "test_dl  = DataLoader(test_ds,  batch_size=32)\n",
    "\n",
    "print(\"Dataset size:\", len(full_ds))"
   ]
  },
  {
   "cell_type": "code",
   "execution_count": 8,
   "id": "3c04d836",
   "metadata": {},
   "outputs": [
    {
     "name": "stdout",
     "output_type": "stream",
     "text": [
      "xv = 5 + 8    \n",
      "yv = <bos>13<eos>\n"
     ]
    }
   ],
   "source": [
    "xt, yt = test_ds[2]\n",
    "\n",
    "xv = \"\".join([idx2char[i.item()] for i in xt])\n",
    "yv = \"\".join([idx2char[i.item()] for i in yt])\n",
    "\n",
    "print(\"xv =\", xv)\n",
    "print(\"yv =\", yv)\n"
   ]
  },
  {
   "cell_type": "markdown",
   "id": "ce4e6b9d",
   "metadata": {},
   "source": [
    "# Cell 4 - Model"
   ]
  },
  {
   "cell_type": "code",
   "execution_count": 9,
   "id": "ec5b34be",
   "metadata": {},
   "outputs": [],
   "source": [
    "class Seq2SeqTransformer(nn.Module):\n",
    "    def __init__(self, vocab_size: int, emb_dim: int = 128,\n",
    "                 n_heads: int = 4, n_layers: int = 2, pad_idx: int = 0):\n",
    "        super().__init__()\n",
    "        self.pad_idx = pad_idx\n",
    "        self.emb = nn.Embedding(vocab_size, emb_dim, padding_idx=pad_idx)\n",
    "        self.pos = nn.Embedding(512, emb_dim)\n",
    "        self.dropout = nn.Dropout(0.1)\n",
    "\n",
    "        enc_layer = nn.TransformerEncoderLayer(emb_dim, n_heads, dropout=0.1)\n",
    "        dec_layer = nn.TransformerDecoderLayer(emb_dim, n_heads, dropout=0.1)\n",
    "        self.encoder = nn.TransformerEncoder(enc_layer, num_layers=n_layers)\n",
    "        self.decoder = nn.TransformerDecoder(dec_layer, num_layers=n_layers)\n",
    "\n",
    "        self.fc = nn.Linear(emb_dim, vocab_size)\n",
    "        # weight tying = moins de params, meilleure généralisation\n",
    "        self.fc.weight = self.emb.weight\n",
    "\n",
    "    def add_pos(self, x):\n",
    "        positions = torch.arange(x.size(1), device=x.device).unsqueeze(0)\n",
    "        return self.emb(x) + self.pos(positions)\n",
    "\n",
    "    @staticmethod\n",
    "    def causal_mask(sz, device):\n",
    "        return torch.triu(torch.full((sz, sz), float('-inf'), device=device), 1)\n",
    "\n",
    "    def forward(self, src, tgt):\n",
    "        src_emb = self.dropout(self.add_pos(src))\n",
    "        tgt_emb = self.dropout(self.add_pos(tgt))\n",
    "\n",
    "        tgt_mask = self.causal_mask(tgt.size(1), tgt.device)\n",
    "        src_key_padding = src.eq(self.pad_idx)\n",
    "        tgt_key_padding = tgt.eq(self.pad_idx)\n",
    "\n",
    "        memory = self.encoder(\n",
    "            src_emb.transpose(0, 1),\n",
    "            src_key_padding_mask=src_key_padding\n",
    "        )\n",
    "        out = self.decoder(\n",
    "            tgt_emb.transpose(0, 1),\n",
    "            memory,\n",
    "            tgt_mask=tgt_mask,\n",
    "            tgt_key_padding_mask=tgt_key_padding,\n",
    "            memory_key_padding_mask=src_key_padding\n",
    "        )\n",
    "        return self.fc(out.transpose(0, 1))"
   ]
  },
  {
   "cell_type": "code",
   "execution_count": 10,
   "id": "80a03d13",
   "metadata": {},
   "outputs": [
    {
     "name": "stderr",
     "output_type": "stream",
     "text": [
      "c:\\Users\\Admin\\Desktop\\GFlowNet_LLM_Bayes\\.venv\\Lib\\site-packages\\torch\\nn\\modules\\transformer.py:382: UserWarning: enable_nested_tensor is True, but self.use_nested_tensor is False because encoder_layer.self_attn.batch_first was not True(use batch_first for better inference performance)\n",
      "  warnings.warn(\n"
     ]
    },
    {
     "name": "stdout",
     "output_type": "stream",
     "text": [
      "✓ Forward pass OK – shapes conformes.\n"
     ]
    },
    {
     "name": "stderr",
     "output_type": "stream",
     "text": [
      "c:\\Users\\Admin\\Desktop\\GFlowNet_LLM_Bayes\\.venv\\Lib\\site-packages\\torch\\nn\\functional.py:5962: UserWarning: Support for mismatched key_padding_mask and attn_mask is deprecated. Use same type for both instead.\n",
      "  warnings.warn(\n"
     ]
    }
   ],
   "source": [
    "def encode(s, pad_to=None):\n",
    "    ids = [char2idx[c] for c in s]\n",
    "    if pad_to:\n",
    "        ids += [char2idx[PAD]] * (pad_to - len(ids))\n",
    "    return ids\n",
    "def smoke_test():\n",
    "    model = Seq2SeqTransformer(VOCAB_SIZE, pad_idx=char2idx[PAD]).eval()\n",
    "\n",
    "    # sample du dataset : \"11 + 33  \" (9 caractères pile)\n",
    "    src_str = \"11 + 33  \"                 # INPUT_LEN = 9\n",
    "    tgt_str = \"<bos>\"                     # on démarre la génération\n",
    "\n",
    "    src = torch.tensor([encode(src_str)], dtype=torch.long)\n",
    "    tgt = torch.tensor([[char2idx[BOS]]], dtype=torch.long)\n",
    "\n",
    "    with torch.no_grad():\n",
    "        out = model(src, tgt)             # -> shape [1, 1, VOCAB_SIZE]\n",
    "\n",
    "    assert out.shape == (1, tgt.size(1), VOCAB_SIZE)\n",
    "    print(\"✓ Forward pass OK – shapes conformes.\")\n",
    "    # Le modèle est random, c’est normal que la prédiction ne soit pas 44 !\n",
    "\n",
    "smoke_test()"
   ]
  },
  {
   "cell_type": "code",
   "execution_count": 11,
   "id": "b1dc8ac4",
   "metadata": {},
   "outputs": [
    {
     "name": "stderr",
     "output_type": "stream",
     "text": [
      "c:\\Users\\Admin\\Desktop\\GFlowNet_LLM_Bayes\\.venv\\Lib\\site-packages\\torch\\nn\\modules\\transformer.py:382: UserWarning: enable_nested_tensor is True, but self.use_nested_tensor is False because encoder_layer.self_attn.batch_first was not True(use batch_first for better inference performance)\n",
      "  warnings.warn(\n"
     ]
    },
    {
     "name": "stdout",
     "output_type": "stream",
     "text": [
      "Device: cuda\n"
     ]
    }
   ],
   "source": [
    "device = \"cuda\" if torch.cuda.is_available() else \"cpu\"\n",
    "model = Seq2SeqTransformer(VOCAB_SIZE, pad_idx=char2idx[PAD]).to(device)\n",
    "optimizer = torch.optim.Adam(model.parameters(), lr=1e-3)\n",
    "loss_fn = nn.CrossEntropyLoss(ignore_index=char2idx[PAD])\n",
    "print(\"Device:\", device)"
   ]
  },
  {
   "cell_type": "markdown",
   "id": "e2ee4ad8",
   "metadata": {},
   "source": [
    "# Cell 5 : Setup"
   ]
  },
  {
   "cell_type": "code",
   "execution_count": null,
   "id": "b161c777",
   "metadata": {},
   "outputs": [],
   "source": [
    "EPOCHS = 40\n",
    "train_losses = []\n",
    "test_losses = []\n"
   ]
  },
  {
   "cell_type": "code",
   "execution_count": 26,
   "id": "9c469fb4",
   "metadata": {},
   "outputs": [
    {
     "name": "stderr",
     "output_type": "stream",
     "text": [
      "C:\\Users\\Admin\\AppData\\Local\\Temp\\ipykernel_24868\\2492785552.py:1: FutureWarning: `torch.cuda.amp.GradScaler(args...)` is deprecated. Please use `torch.amp.GradScaler('cuda', args...)` instead.\n",
      "  scaler = torch.cuda.amp.GradScaler(enabled=device.startswith(\"cuda\"))\n",
      "C:\\Users\\Admin\\AppData\\Local\\Temp\\ipykernel_24868\\2492785552.py:10: FutureWarning: `torch.cuda.amp.autocast(args...)` is deprecated. Please use `torch.amp.autocast('cuda', args...)` instead.\n",
      "  with torch.cuda.amp.autocast(enabled=device.startswith(\"cuda\")):\n",
      "C:\\Users\\Admin\\AppData\\Local\\Temp\\ipykernel_24868\\2492785552.py:28: FutureWarning: `torch.cuda.amp.autocast(args...)` is deprecated. Please use `torch.amp.autocast('cuda', args...)` instead.\n",
      "  with torch.no_grad(), torch.cuda.amp.autocast(enabled=device.startswith(\"cuda\")):\n"
     ]
    },
    {
     "name": "stdout",
     "output_type": "stream",
     "text": [
      "Epoch 01 – Train 0.3375 | Test 0.0623\n",
      "Epoch 02 – Train 0.1281 | Test 0.0197\n",
      "Epoch 03 – Train 0.0804 | Test 0.0081\n",
      "Epoch 04 – Train 0.0549 | Test 0.0183\n",
      "Epoch 05 – Train 0.0761 | Test 0.0165\n",
      "Epoch 06 – Train 0.0461 | Test 0.0088\n",
      "Epoch 07 – Train 0.0617 | Test 0.0238\n",
      "Epoch 08 – Train 0.0630 | Test 0.0056\n",
      "Epoch 09 – Train 0.0515 | Test 0.0052\n",
      "Epoch 10 – Train 0.0572 | Test 0.0118\n",
      "Epoch 11 – Train 0.0540 | Test 0.0151\n",
      "Epoch 12 – Train 0.0365 | Test 0.0127\n",
      "Epoch 13 – Train 0.0442 | Test 0.0061\n",
      "Epoch 14 – Train 0.0414 | Test 0.0085\n",
      "Epoch 15 – Train 0.0515 | Test 0.0002\n",
      "Epoch 16 – Train 0.0292 | Test 0.0007\n",
      "Epoch 17 – Train 0.0349 | Test 0.0022\n",
      "Epoch 18 – Train 0.0424 | Test 0.0016\n",
      "Epoch 19 – Train 0.0512 | Test 0.0012\n",
      "Epoch 20 – Train 0.0254 | Test 0.0002\n"
     ]
    }
   ],
   "source": [
    "scaler = torch.cuda.amp.GradScaler(enabled=device.startswith(\"cuda\"))\n",
    "\n",
    "for epoch in range(1, EPOCHS + 1):\n",
    "    model.train(); total_loss = 0; n_tokens = 0\n",
    "\n",
    "    for src, tgt in train_dl:\n",
    "        src, tgt = src.to(device), tgt.to(device)\n",
    "        optimizer.zero_grad()\n",
    "\n",
    "        with torch.cuda.amp.autocast(enabled=device.startswith(\"cuda\")):\n",
    "            logits = model(src, tgt[:, :-1])\n",
    "            loss   = loss_fn(\n",
    "                logits.reshape(-1, VOCAB_SIZE),\n",
    "                tgt[:, 1:].reshape(-1)\n",
    "            )\n",
    "\n",
    "        scaler.scale(loss).backward()\n",
    "        torch.nn.utils.clip_grad_norm_(model.parameters(), 1.0)\n",
    "        scaler.step(optimizer); scaler.update()\n",
    "\n",
    "        total_loss += loss.item() * tgt[:, 1:].numel()\n",
    "        n_tokens   += tgt[:, 1:].numel()\n",
    "\n",
    "    train_losses.append(total_loss / n_tokens)\n",
    "\n",
    "    # ----- eval -----\n",
    "    model.eval(); total_loss = 0; n_tokens = 0\n",
    "    with torch.no_grad(), torch.cuda.amp.autocast(enabled=device.startswith(\"cuda\")):\n",
    "        for src, tgt in test_dl:\n",
    "            src, tgt = src.to(device), tgt.to(device)\n",
    "            logits = model(src, tgt[:, :-1])\n",
    "            loss   = loss_fn(\n",
    "                logits.reshape(-1, VOCAB_SIZE),\n",
    "                tgt[:, 1:].reshape(-1)\n",
    "            )\n",
    "            total_loss += loss.item() * tgt[:, 1:].numel()\n",
    "            n_tokens   += tgt[:, 1:].numel()\n",
    "    test_losses.append(total_loss / n_tokens)\n",
    "\n",
    "    print(f\"Epoch {epoch:02d} – Train {train_losses[-1]:.4f} | Test {test_losses[-1]:.4f}\")\n"
   ]
  },
  {
   "cell_type": "code",
   "execution_count": 27,
   "id": "b2835582",
   "metadata": {},
   "outputs": [
    {
     "data": {
      "image/png": "[encoded data removed]",
      "text/plain": [
       "<Figure size 800x400 with 1 Axes>"
      ]
     },
     "metadata": {},
     "output_type": "display_data"
    }
   ],
   "source": [
    "plt.figure(figsize=(8,4))\n",
    "plt.plot(train_losses, label='train'); plt.plot(test_losses, label='test')\n",
    "plt.xlabel('epoch'); plt.ylabel('loss'); plt.grid(True); plt.legend(); plt.show()"
   ]
  },
  {
   "cell_type": "code",
   "execution_count": 28,
   "id": "74d6e84d",
   "metadata": {},
   "outputs": [],
   "source": [
    "def decode(ids, skip_pad=True, strip=True):\n",
    "    \"\"\"\n",
    "    - accepte list, numpy array ou tensor (CPU/GPU)\n",
    "    - supprime les <pad> si skip_pad=True\n",
    "    - enlève les espaces de fin si strip=True\n",
    "    \"\"\"\n",
    "    if torch.is_tensor(ids):\n",
    "        ids = ids.tolist()\n",
    "\n",
    "    s = []\n",
    "    for tok in ids:\n",
    "        ch = idx2char.get(int(tok), '')      # int() si tok est un tensor\n",
    "        if skip_pad and ch == PAD:\n",
    "            continue\n",
    "        s.append(ch)\n",
    "\n",
    "    out = ''.join(s)\n",
    "    return out.rstrip() if strip else out\n",
    "\n",
    "@torch.inference_mode()\n",
    "def generate(model, input_str, max_len=OUTPUT_LEN):\n",
    "    model.eval()\n",
    "\n",
    "    src_ids = [char2idx.get(c, char2idx[PAD])\n",
    "               for c in input_str[:INPUT_LEN].ljust(INPUT_LEN)]\n",
    "    src = torch.tensor([src_ids], device=device, dtype=torch.long)\n",
    "\n",
    "    tgt = torch.tensor([[char2idx[BOS]]], device=device, dtype=torch.long)\n",
    "\n",
    "    for _ in range(max_len):                         # plus de +1\n",
    "        logits = model(src, tgt)\n",
    "        next_token = logits[:, -1].argmax(-1, keepdim=True)\n",
    "        tgt = torch.cat([tgt, next_token], dim=1)\n",
    "        if next_token.item() == char2idx[EOS]:\n",
    "            break\n",
    "\n",
    "    pred_ids = tgt[0, 1:-1].tolist()                 # sans BOS/EOS\n",
    "    return decode(pred_ids)\n"
   ]
  },
  {
   "cell_type": "code",
   "execution_count": 33,
   "id": "2bdb71c3",
   "metadata": {},
   "outputs": [
    {
     "name": "stdout",
     "output_type": "stream",
     "text": [
      "4\n",
      "1\n"
     ]
    }
   ],
   "source": [
    "print(generate(model, \"2 + 2\"))   # ➜ \"44\" si modèle entraîné\n",
    "print(generate(model, \"1 + 10\"))   # ➜ \"19\""
   ]
  },
  {
   "cell_type": "code",
   "execution_count": 17,
   "id": "fb90361b",
   "metadata": {},
   "outputs": [
    {
     "name": "stdout",
     "output_type": "stream",
     "text": [
      "INPUT : 7 + 0\n",
      "TARGET: <bos>7 <eos>\n",
      "INPUT : 0 + 3\n",
      "TARGET: <bos>3 <eos>\n",
      "INPUT : 6 + 5\n",
      "TARGET: <bos>11<eos>\n",
      "INPUT : 6 + 3\n",
      "TARGET: <bos>9 <eos>\n",
      "INPUT : 1 + 6\n",
      "TARGET: <bos>7 <eos>\n"
     ]
    }
   ],
   "source": [
    "for i in range(5):\n",
    "    x, y = train_ds[i]\n",
    "    print(\"INPUT :\", decode(x))\n",
    "    print(\"TARGET:\", decode(y))\n"
   ]
  },
  {
   "cell_type": "code",
   "execution_count": 18,
   "id": "748a928e",
   "metadata": {},
   "outputs": [],
   "source": [
    "def random_tests(n=10):\n",
    "    \"\"\"Affiche n exemples pris au hasard dans le jeu de test.\"\"\"\n",
    "    n = min(n, len(test_ds))\n",
    "    indices = random.sample(range(len(test_ds)), n)\n",
    "    for sub_idx in indices:\n",
    "        plain_inp, expected = test_ds.dataset.get_str(test_ds.indices[sub_idx])\n",
    "        guess = generate(model, plain_inp)\n",
    "        status = \"✅\" if guess.strip() == expected.strip() else \"❌\"\n",
    "        print(f\"{plain_inp} = {guess} (attendu {expected}) {status}\")"
   ]
  },
  {
   "cell_type": "code",
   "execution_count": 19,
   "id": "cb57d292",
   "metadata": {},
   "outputs": [
    {
     "ename": "AttributeError",
     "evalue": "'AdditionDataset' object has no attribute 'get_str'",
     "output_type": "error",
     "traceback": [
      "\u001b[31m---------------------------------------------------------------------------\u001b[39m",
      "\u001b[31mAttributeError\u001b[39m                            Traceback (most recent call last)",
      "\u001b[36mCell\u001b[39m\u001b[36m \u001b[39m\u001b[32mIn[19]\u001b[39m\u001b[32m, line 1\u001b[39m\n\u001b[32m----> \u001b[39m\u001b[32m1\u001b[39m \u001b[43mrandom_tests\u001b[49m\u001b[43m(\u001b[49m\u001b[32;43m10\u001b[39;49m\u001b[43m)\u001b[49m\n",
      "\u001b[36mCell\u001b[39m\u001b[36m \u001b[39m\u001b[32mIn[18]\u001b[39m\u001b[32m, line 6\u001b[39m, in \u001b[36mrandom_tests\u001b[39m\u001b[34m(n)\u001b[39m\n\u001b[32m      4\u001b[39m indices = random.sample(\u001b[38;5;28mrange\u001b[39m(\u001b[38;5;28mlen\u001b[39m(test_ds)), n)\n\u001b[32m      5\u001b[39m \u001b[38;5;28;01mfor\u001b[39;00m sub_idx \u001b[38;5;129;01min\u001b[39;00m indices:\n\u001b[32m----> \u001b[39m\u001b[32m6\u001b[39m     plain_inp, expected = \u001b[43mtest_ds\u001b[49m\u001b[43m.\u001b[49m\u001b[43mdataset\u001b[49m\u001b[43m.\u001b[49m\u001b[43mget_str\u001b[49m(test_ds.indices[sub_idx])\n\u001b[32m      7\u001b[39m     guess = generate(model, plain_inp)\n\u001b[32m      8\u001b[39m     status = \u001b[33m\"\u001b[39m\u001b[33m✅\u001b[39m\u001b[33m\"\u001b[39m \u001b[38;5;28;01mif\u001b[39;00m guess.strip() == expected.strip() \u001b[38;5;28;01melse\u001b[39;00m \u001b[33m\"\u001b[39m\u001b[33m❌\u001b[39m\u001b[33m\"\u001b[39m\n",
      "\u001b[31mAttributeError\u001b[39m: 'AdditionDataset' object has no attribute 'get_str'"
     ]
    }
   ],
   "source": [
    "random_tests(10)"
   ]
  }
 ],
 "metadata": {
  "kernelspec": {
   "display_name": "Python 3",
   "language": "python",
   "name": "python3"
  },
  "language_info": {
   "codemirror_mode": {
    "name": "ipython",
    "version": 3
   },
   "file_extension": ".py",
   "mimetype": "text/x-python",
   "name": "python",
   "nbconvert_exporter": "python",
   "pygments_lexer": "ipython3",
   "version": "3.13.3"
  }
 },
 "nbformat": 4,
 "nbformat_minor": 5
}
