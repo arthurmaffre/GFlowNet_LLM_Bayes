{
 "cells": [
  {
   "cell_type": "code",
   "execution_count": 1,
   "id": "afc0d4a4",
   "metadata": {},
   "outputs": [
    {
     "name": "stdout",
     "output_type": "stream",
     "text": [
      "Looking in indexes: https://download.pytorch.org/whl/cu128\n",
      "Requirement already satisfied: torch in c:\\users\\admin\\desktop\\test modele bayes\\.venv\\lib\\site-packages (2.7.1+cu128)\n",
      "Requirement already satisfied: torchvision in c:\\users\\admin\\desktop\\test modele bayes\\.venv\\lib\\site-packages (0.22.1+cu128)\n",
      "Requirement already satisfied: torchaudio in c:\\users\\admin\\desktop\\test modele bayes\\.venv\\lib\\site-packages (2.7.1+cu128)\n",
      "Requirement already satisfied: filelock in c:\\users\\admin\\desktop\\test modele bayes\\.venv\\lib\\site-packages (from torch) (3.18.0)\n",
      "Requirement already satisfied: typing-extensions>=4.10.0 in c:\\users\\admin\\desktop\\test modele bayes\\.venv\\lib\\site-packages (from torch) (4.14.0)\n",
      "Requirement already satisfied: sympy>=1.13.3 in c:\\users\\admin\\desktop\\test modele bayes\\.venv\\lib\\site-packages (from torch) (1.14.0)\n",
      "Requirement already satisfied: networkx in c:\\users\\admin\\desktop\\test modele bayes\\.venv\\lib\\site-packages (from torch) (3.5)\n",
      "Requirement already satisfied: jinja2 in c:\\users\\admin\\desktop\\test modele bayes\\.venv\\lib\\site-packages (from torch) (3.1.6)\n",
      "Requirement already satisfied: fsspec in c:\\users\\admin\\desktop\\test modele bayes\\.venv\\lib\\site-packages (from torch) (2025.5.1)\n",
      "Requirement already satisfied: setuptools in c:\\users\\admin\\desktop\\test modele bayes\\.venv\\lib\\site-packages (from torch) (80.9.0)\n",
      "Requirement already satisfied: numpy in c:\\users\\admin\\desktop\\test modele bayes\\.venv\\lib\\site-packages (from torchvision) (2.3.1)\n",
      "Requirement already satisfied: pillow!=8.3.*,>=5.3.0 in c:\\users\\admin\\desktop\\test modele bayes\\.venv\\lib\\site-packages (from torchvision) (11.0.0)\n",
      "Requirement already satisfied: mpmath<1.4,>=1.1.0 in c:\\users\\admin\\desktop\\test modele bayes\\.venv\\lib\\site-packages (from sympy>=1.13.3->torch) (1.3.0)\n",
      "Requirement already satisfied: MarkupSafe>=2.0 in c:\\users\\admin\\desktop\\test modele bayes\\.venv\\lib\\site-packages (from jinja2->torch) (3.0.2)\n",
      "Requirement already satisfied: matplotlib in c:\\users\\admin\\desktop\\test modele bayes\\.venv\\lib\\site-packages (3.10.3)\n",
      "Requirement already satisfied: contourpy>=1.0.1 in c:\\users\\admin\\desktop\\test modele bayes\\.venv\\lib\\site-packages (from matplotlib) (1.3.2)\n",
      "Requirement already satisfied: cycler>=0.10 in c:\\users\\admin\\desktop\\test modele bayes\\.venv\\lib\\site-packages (from matplotlib) (0.12.1)\n",
      "Requirement already satisfied: fonttools>=4.22.0 in c:\\users\\admin\\desktop\\test modele bayes\\.venv\\lib\\site-packages (from matplotlib) (4.58.4)\n",
      "Requirement already satisfied: kiwisolver>=1.3.1 in c:\\users\\admin\\desktop\\test modele bayes\\.venv\\lib\\site-packages (from matplotlib) (1.4.8)\n",
      "Requirement already satisfied: numpy>=1.23 in c:\\users\\admin\\desktop\\test modele bayes\\.venv\\lib\\site-packages (from matplotlib) (2.3.1)\n",
      "Requirement already satisfied: packaging>=20.0 in c:\\users\\admin\\desktop\\test modele bayes\\.venv\\lib\\site-packages (from matplotlib) (25.0)\n",
      "Requirement already satisfied: pillow>=8 in c:\\users\\admin\\desktop\\test modele bayes\\.venv\\lib\\site-packages (from matplotlib) (11.0.0)\n",
      "Requirement already satisfied: pyparsing>=2.3.1 in c:\\users\\admin\\desktop\\test modele bayes\\.venv\\lib\\site-packages (from matplotlib) (3.2.3)\n",
      "Requirement already satisfied: python-dateutil>=2.7 in c:\\users\\admin\\desktop\\test modele bayes\\.venv\\lib\\site-packages (from matplotlib) (2.9.0.post0)\n",
      "Requirement already satisfied: six>=1.5 in c:\\users\\admin\\desktop\\test modele bayes\\.venv\\lib\\site-packages (from python-dateutil>=2.7->matplotlib) (1.17.0)\n"
     ]
    }
   ],
   "source": [
    "!pip3 install torch torchvision torchaudio --index-url https://download.pytorch.org/whl/cu128\n",
    "!pip3 install matplotlib"
   ]
  },
  {
   "cell_type": "markdown",
   "id": "94f61cac",
   "metadata": {},
   "source": [
    "# Cell 1 - Imports"
   ]
  },
  {
   "cell_type": "code",
   "execution_count": 32,
   "id": "2e4f3a7f",
   "metadata": {},
   "outputs": [],
   "source": [
    "import random, torch, pickle\n",
    "import torch.nn as nn\n",
    "from torch.utils.data import Dataset, DataLoader, random_split\n",
    "import pandas as pd\n",
    "import matplotlib.pyplot as plt"
   ]
  },
  {
   "cell_type": "code",
   "execution_count": 33,
   "id": "0dbc9f82",
   "metadata": {},
   "outputs": [
    {
     "data": {
      "text/plain": [
       "<torch._C.Generator at 0x1f1a89df5f0>"
      ]
     },
     "execution_count": 33,
     "metadata": {},
     "output_type": "execute_result"
    }
   ],
   "source": [
    "SEED = 42\n",
    "random.seed(SEED)\n",
    "torch.manual_seed(SEED)"
   ]
  },
  {
   "cell_type": "code",
   "execution_count": 34,
   "id": "b0e5986c",
   "metadata": {},
   "outputs": [],
   "source": [
    "with open(\"addition_dataset.pkl\", \"rb\") as f:\n",
    "    df = pickle.load(f)"
   ]
  },
  {
   "cell_type": "markdown",
   "id": "56a72c83",
   "metadata": {},
   "source": [
    "# Cell 2 - Tokenization"
   ]
  },
  {
   "cell_type": "code",
   "execution_count": 6,
   "id": "3076aeb4",
   "metadata": {},
   "outputs": [
    {
     "name": "stdout",
     "output_type": "stream",
     "text": [
      "VOCAB_SIZE = 16\n",
      "OUTPUT_LEN = 2\n"
     ]
    }
   ],
   "source": [
    "SPECIAL = [\"<pad>\", \"<bos>\", \"<eos>\"]\n",
    "BASE_CHARS = sorted(set(\"0123456789+= \"))\n",
    "VOCAB = SPECIAL + BASE_CHARS\n",
    "PAD, BOS, EOS = SPECIAL  # alias pratiques\n",
    "\n",
    "char2idx = {ch: i for i, ch in enumerate(VOCAB)}\n",
    "idx2char = {i: ch for ch, i in char2idx.items()}\n",
    "VOCAB_SIZE = len(VOCAB)\n",
    "\n",
    "INPUT_LEN = 9                               # « 99 + 99 » => 9 caractères max\n",
    "OUTPUT_LEN = int(df[\"output\"].str.len().max())  # nb de chiffres de la somme\n",
    "TGT_LEN = OUTPUT_LEN + 2                    # + BOS + EOS\n",
    "\n",
    "print(\"VOCAB_SIZE =\", VOCAB_SIZE)\n",
    "print(\"OUTPUT_LEN =\", OUTPUT_LEN)"
   ]
  },
  {
   "cell_type": "markdown",
   "id": "af8be234",
   "metadata": {},
   "source": [
    "# Cell 3 - Dataset"
   ]
  },
  {
   "cell_type": "code",
   "execution_count": 7,
   "id": "cf997182",
   "metadata": {},
   "outputs": [],
   "source": [
    "class AdditionDataset(Dataset):\n",
    "    def __init__(self, dataframe):\n",
    "        self.x, self.y, self.meta = [], [], []\n",
    "        for _, row in dataframe.iterrows():\n",
    "            inp = row[\"input\"][:INPUT_LEN].ljust(INPUT_LEN)\n",
    "            out = row[\"output\"][:OUTPUT_LEN].ljust(OUTPUT_LEN)\n",
    "\n",
    "            src_ids = [char2idx[c] for c in inp]\n",
    "            tgt_ids = [char2idx[BOS]] + [char2idx[c] for c in out] + [char2idx[EOS]]\n",
    "            tgt_ids += [char2idx[PAD]] * (TGT_LEN - len(tgt_ids))\n",
    "\n",
    "            self.x.append(torch.tensor(src_ids, dtype=torch.long))\n",
    "            self.y.append(torch.tensor(tgt_ids, dtype=torch.long))\n",
    "            self.meta.append((inp.strip(), out.strip()))\n",
    "\n",
    "    def __len__(self):\n",
    "        return len(self.x)\n",
    "\n",
    "    def __getitem__(self, idx):\n",
    "        return self.x[idx], self.y[idx]\n",
    "\n",
    "    def get_str(self, idx):\n",
    "        return self.meta[idx]\n"
   ]
  },
  {
   "cell_type": "code",
   "execution_count": 8,
   "id": "86c9373e",
   "metadata": {},
   "outputs": [
    {
     "name": "stdout",
     "output_type": "stream",
     "text": [
      "Dataset size: 1000\n"
     ]
    }
   ],
   "source": [
    "full_ds = AdditionDataset(df)\n",
    "train_ds, test_ds = random_split(full_ds, [int(0.8*len(full_ds)), len(full_ds)-int(0.8*len(full_ds))])\n",
    "train_dl = DataLoader(train_ds, batch_size=32, shuffle=True)\n",
    "test_dl  = DataLoader(test_ds,  batch_size=32)\n",
    "\n",
    "print(\"Dataset size:\", len(full_ds))"
   ]
  },
  {
   "cell_type": "markdown",
   "id": "ce4e6b9d",
   "metadata": {},
   "source": [
    "# Cell 4 - Model"
   ]
  },
  {
   "cell_type": "code",
   "execution_count": 10,
   "id": "ec5b34be",
   "metadata": {},
   "outputs": [],
   "source": [
    "class Seq2SeqTransformer(nn.Module):\n",
    "    def __init__(self, vocab_size, emb_dim=128, n_heads=4, n_layers=2):\n",
    "        super().__init__()\n",
    "        self.emb = nn.Embedding(vocab_size, emb_dim, padding_idx=char2idx[PAD])\n",
    "        self.pos = nn.Embedding(512, emb_dim)   # positions jusqu'à 512 tokens\n",
    "\n",
    "        enc_layer = nn.TransformerEncoderLayer(emb_dim, n_heads, dropout=0.1)\n",
    "        dec_layer = nn.TransformerDecoderLayer(emb_dim, n_heads, dropout=0.1)\n",
    "        self.encoder = nn.TransformerEncoder(enc_layer, num_layers=n_layers)\n",
    "        self.decoder = nn.TransformerDecoder(dec_layer, num_layers=n_layers)\n",
    "        self.fc = nn.Linear(emb_dim, vocab_size)\n",
    "\n",
    "    def add_pos(self, x):\n",
    "        positions = torch.arange(x.size(1), device=x.device).unsqueeze(0)\n",
    "        return self.emb(x) + self.pos(positions)\n",
    "\n",
    "    def forward(self, src, tgt):\n",
    "        src_emb = self.add_pos(src)\n",
    "        tgt_emb = self.add_pos(tgt)\n",
    "        memory  = self.encoder(src_emb.permute(1, 0, 2))\n",
    "        out = self.decoder(tgt_emb.permute(1, 0, 2), memory)\n",
    "        return self.fc(out.permute(1, 0, 2))"
   ]
  },
  {
   "cell_type": "code",
   "execution_count": 11,
   "id": "b1dc8ac4",
   "metadata": {},
   "outputs": [
    {
     "name": "stderr",
     "output_type": "stream",
     "text": [
      "c:\\Users\\Admin\\Desktop\\test modele bayes\\.venv\\Lib\\site-packages\\torch\\nn\\modules\\transformer.py:382: UserWarning: enable_nested_tensor is True, but self.use_nested_tensor is False because encoder_layer.self_attn.batch_first was not True(use batch_first for better inference performance)\n",
      "  warnings.warn(\n"
     ]
    },
    {
     "name": "stdout",
     "output_type": "stream",
     "text": [
      "Device: cuda\n"
     ]
    }
   ],
   "source": [
    "device = \"cuda\" if torch.cuda.is_available() else \"cpu\"\n",
    "model = Seq2SeqTransformer(VOCAB_SIZE).to(device)\n",
    "optimizer = torch.optim.Adam(model.parameters(), lr=1e-3)\n",
    "loss_fn = nn.CrossEntropyLoss(ignore_index=char2idx[PAD])\n",
    "print(\"Device:\", device)"
   ]
  },
  {
   "cell_type": "markdown",
   "id": "e2ee4ad8",
   "metadata": {},
   "source": [
    "# Cell 5 : Setup"
   ]
  },
  {
   "cell_type": "code",
   "execution_count": 12,
   "id": "9c469fb4",
   "metadata": {},
   "outputs": [
    {
     "name": "stdout",
     "output_type": "stream",
     "text": [
      "Epoch 01 – Train 1.0630 | Test 0.0840\n",
      "Epoch 02 – Train 0.0433 | Test 0.0134\n",
      "Epoch 03 – Train 0.0129 | Test 0.0073\n",
      "Epoch 04 – Train 0.0085 | Test 0.0052\n",
      "Epoch 05 – Train 0.0065 | Test 0.0041\n",
      "Epoch 06 – Train 0.0054 | Test 0.0034\n",
      "Epoch 07 – Train 0.0044 | Test 0.0028\n",
      "Epoch 08 – Train 0.0038 | Test 0.0024\n",
      "Epoch 09 – Train 0.0033 | Test 0.0020\n",
      "Epoch 10 – Train 0.0029 | Test 0.0018\n",
      "Epoch 11 – Train 0.0024 | Test 0.0016\n",
      "Epoch 12 – Train 0.0022 | Test 0.0014\n",
      "Epoch 13 – Train 0.0020 | Test 0.0012\n",
      "Epoch 14 – Train 0.0017 | Test 0.0011\n",
      "Epoch 15 – Train 0.0016 | Test 0.0010\n",
      "Epoch 16 – Train 0.0015 | Test 0.0009\n",
      "Epoch 17 – Train 0.0013 | Test 0.0008\n",
      "Epoch 18 – Train 0.0012 | Test 0.0008\n",
      "Epoch 19 – Train 0.0011 | Test 0.0007\n",
      "Epoch 20 – Train 0.0011 | Test 0.0006\n"
     ]
    }
   ],
   "source": [
    "EPOCHS = 20\n",
    "train_losses, test_losses = [], []\n",
    "\n",
    "for epoch in range(1, EPOCHS+1):\n",
    "    model.train(); total_tr = 0\n",
    "    for src, tgt in train_dl:\n",
    "        src, tgt = src.to(device), tgt.to(device)\n",
    "        logits = model(src, tgt[:, :-1])\n",
    "        loss = loss_fn(logits.reshape(-1, VOCAB_SIZE), tgt[:, 1:].reshape(-1))\n",
    "        optimizer.zero_grad(); loss.backward(); optimizer.step()\n",
    "        total_tr += loss.item()\n",
    "    train_losses.append(total_tr / len(train_dl))\n",
    "\n",
    "    model.eval(); total_te = 0\n",
    "    with torch.no_grad():\n",
    "        for src, tgt in test_dl:\n",
    "            src, tgt = src.to(device), tgt.to(device)\n",
    "            logits = model(src, tgt[:, :-1])\n",
    "            loss = loss_fn(logits.reshape(-1, VOCAB_SIZE), tgt[:, 1:].reshape(-1))\n",
    "            total_te += loss.item()\n",
    "    test_losses.append(total_te / len(test_dl))\n",
    "\n",
    "    print(f\"Epoch {epoch:02d} – Train {train_losses[-1]:.4f} | Test {test_losses[-1]:.4f}\")"
   ]
  },
  {
   "cell_type": "code",
   "execution_count": 13,
   "id": "b2835582",
   "metadata": {},
   "outputs": [
    {
     "data": {
      "image/png": "[encoded data removed]",
      "text/plain": [
       "<Figure size 800x400 with 1 Axes>"
      ]
     },
     "metadata": {},
     "output_type": "display_data"
    }
   ],
   "source": [
    "plt.figure(figsize=(8,4))\n",
    "plt.plot(train_losses, label='train'); plt.plot(test_losses, label='test')\n",
    "plt.xlabel('epoch'); plt.ylabel('loss'); plt.grid(True); plt.legend(); plt.show()"
   ]
  },
  {
   "cell_type": "code",
   "execution_count": 14,
   "id": "74d6e84d",
   "metadata": {},
   "outputs": [],
   "source": [
    "def decode(ids):\n",
    "    return ''.join(idx2char[i] for i in ids if i in idx2char)\n",
    "\n",
    "def generate(model, input_str, max_len=OUTPUT_LEN):\n",
    "    model.eval()\n",
    "    src_ids = [char2idx[c] for c in input_str[:INPUT_LEN].ljust(INPUT_LEN)]\n",
    "    src = torch.tensor([src_ids], device=device)\n",
    "\n",
    "    tgt = torch.tensor([[char2idx[BOS]]], device=device)\n",
    "    with torch.no_grad():\n",
    "        for _ in range(max_len + 1):  # +1 pour EOS\n",
    "            logits = model(src, tgt)\n",
    "            next_token = logits[:, -1].argmax(-1, keepdim=True)  # (1,1)\n",
    "            tgt = torch.cat([tgt, next_token], dim=1)\n",
    "            if next_token.item() == char2idx[EOS]:\n",
    "                break\n",
    "    pred = tgt[0, 1:-1].tolist()  # sans BOS/EOS\n",
    "    return decode(pred)"
   ]
  },
  {
   "cell_type": "code",
   "execution_count": 27,
   "id": "2bdb71c3",
   "metadata": {},
   "outputs": [
    {
     "name": "stdout",
     "output_type": "stream",
     "text": [
      "Input  : 1 + 6 =\n",
      "Target : 7\n",
      "Guess  : 66\n"
     ]
    }
   ],
   "source": [
    "ex_src, ex_tgt = test_ds[3]\n",
    "plain_inp, expected = test_ds.dataset.get_str(test_ds.indices[3])\n",
    "print(\"Input  :\", plain_inp)\n",
    "print(\"Target :\", expected)\n",
    "print(\"Guess  :\", generate(model, plain_inp))"
   ]
  },
  {
   "cell_type": "code",
   "execution_count": 30,
   "id": "748a928e",
   "metadata": {},
   "outputs": [],
   "source": [
    "def random_tests(n=10):\n",
    "    \"\"\"Affiche n exemples pris au hasard dans le jeu de test.\"\"\"\n",
    "    n = min(n, len(test_ds))\n",
    "    indices = random.sample(range(len(test_ds)), n)\n",
    "    for sub_idx in indices:\n",
    "        plain_inp, expected = test_ds.dataset.get_str(test_ds.indices[sub_idx])\n",
    "        guess = generate(model, plain_inp)\n",
    "        status = \"✅\" if guess.strip() == expected.strip() else \"❌\"\n",
    "        print(f\"{plain_inp} = {guess} (attendu {expected}) {status}\")"
   ]
  },
  {
   "cell_type": "code",
   "execution_count": 31,
   "id": "cb57d292",
   "metadata": {},
   "outputs": [
    {
     "name": "stdout",
     "output_type": "stream",
     "text": [
      "46 + 31 = = 66 (attendu 77) ❌\n",
      "17 + 30 = = 66 (attendu 47) ❌\n",
      "30 + 29 = = 66 (attendu 59) ❌\n",
      "27 + 39 = = 66 (attendu 66) ✅\n",
      "25 + 5 = = 66 (attendu 30) ❌\n",
      "11 + 17 = = 66 (attendu 28) ❌\n",
      "13 + 20 = = 66 (attendu 33) ❌\n",
      "21 + 24 = = 66 (attendu 45) ❌\n",
      "29 + 9 = = 66 (attendu 38) ❌\n",
      "0 + 6 = = 66 (attendu 6) ❌\n"
     ]
    }
   ],
   "source": [
    "random_tests(10)"
   ]
  }
 ],
 "metadata": {
  "kernelspec": {
   "display_name": ".venv",
   "language": "python",
   "name": "python3"
  },
  "language_info": {
   "codemirror_mode": {
    "name": "ipython",
    "version": 3
   },
   "file_extension": ".py",
   "mimetype": "text/x-python",
   "name": "python",
   "nbconvert_exporter": "python",
   "pygments_lexer": "ipython3",
   "version": "3.13.3"
  }
 },
 "nbformat": 4,
 "nbformat_minor": 5
}
